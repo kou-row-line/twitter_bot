{
  "nbformat": 4,
  "nbformat_minor": 0,
  "metadata": {
    "colab": {
      "name": "01_input_padding.ipynb",
      "provenance": [],
      "collapsed_sections": [],
      "authorship_tag": "ABX9TyPFrh7XVB2MNc3RbLWBEZJC",
      "include_colab_link": true
    },
    "kernelspec": {
      "name": "python3",
      "display_name": "Python 3"
    }
  },
  "cells": [
    {
      "cell_type": "markdown",
      "metadata": {
        "id": "view-in-github",
        "colab_type": "text"
      },
      "source": [
        "<a href=\"https://colab.research.google.com/github/yukinaga/twitter_bot/blob/master/section_5/01_input_padding.ipynb\" target=\"_parent\"><img src=\"https://colab.research.google.com/assets/colab-badge.svg\" alt=\"Open In Colab\"/></a>"
      ]
    },
    {
      "cell_type": "markdown",
      "metadata": {
        "id": "-9xgHp5jqQQO"
      },
      "source": [
        "# 入力のパディング\n",
        "入力となる文章の長さは様々なのですが、バッチ内ではデータの時系列の長さを揃える必要があります。  \n",
        "今回は、短い文章に対して「パディング」を行い、バッチ内の全ての文章の長さを揃えます。"
      ]
    },
    {
      "cell_type": "markdown",
      "metadata": {
        "id": "Yar4MmG9ufdW"
      },
      "source": [
        "## テンソルのパディング\n",
        "`nn.utils.rnn.pad_sequence`でパディングを行うことができます。"
      ]
    },
    {
      "cell_type": "markdown",
      "metadata": {
        "id": "Z9VjHFyXupy-"
      },
      "source": [
        "サイズが異なる3つのテンソルを用意します。"
      ]
    },
    {
      "cell_type": "code",
      "metadata": {
        "id": "g2hYapMVuScF",
        "outputId": "4ae911a4-4489-4193-a915-5fb0eeee2939",
        "colab": {
          "base_uri": "https://localhost:8080/",
          "height": 119
        }
      },
      "source": [
        "import torch\n",
        "import torch.nn as nn\n",
        "\n",
        "a = torch.ones(3, 5)\n",
        "print(a)\n",
        "b = torch.ones(2, 5) * 2\n",
        "print(b)\n",
        "c = torch.ones(1, 5) * 3\n",
        "print(c)"
      ],
      "execution_count": 1,
      "outputs": [
        {
          "output_type": "stream",
          "text": [
            "tensor([[1., 1., 1., 1., 1.],\n",
            "        [1., 1., 1., 1., 1.],\n",
            "        [1., 1., 1., 1., 1.]])\n",
            "tensor([[2., 2., 2., 2., 2.],\n",
            "        [2., 2., 2., 2., 2.]])\n",
            "tensor([[3., 3., 3., 3., 3.]])\n"
          ],
          "name": "stdout"
        }
      ]
    },
    {
      "cell_type": "markdown",
      "metadata": {
        "id": "sCX-sQ3PvKwi"
      },
      "source": [
        "`nn.utils.rnn.pad_sequence`によりパディングを行います。"
      ]
    },
    {
      "cell_type": "code",
      "metadata": {
        "id": "uD2oTL-vvPmk",
        "outputId": "8bf69361-ac93-4b4b-da71-3ba211d43bfa",
        "colab": {
          "base_uri": "https://localhost:8080/",
          "height": 204
        }
      },
      "source": [
        "padded = nn.utils.rnn.pad_sequence([a, b, c], batch_first=True)\n",
        "print(padded)"
      ],
      "execution_count": 2,
      "outputs": [
        {
          "output_type": "stream",
          "text": [
            "tensor([[[1., 1., 1., 1., 1.],\n",
            "         [1., 1., 1., 1., 1.],\n",
            "         [1., 1., 1., 1., 1.]],\n",
            "\n",
            "        [[2., 2., 2., 2., 2.],\n",
            "         [2., 2., 2., 2., 2.],\n",
            "         [0., 0., 0., 0., 0.]],\n",
            "\n",
            "        [[3., 3., 3., 3., 3.],\n",
            "         [0., 0., 0., 0., 0.],\n",
            "         [0., 0., 0., 0., 0.]]])\n"
          ],
          "name": "stdout"
        }
      ]
    },
    {
      "cell_type": "markdown",
      "metadata": {
        "id": "-rHKMusSvjSN"
      },
      "source": [
        "## Tensorのパッキング\n",
        "このままだと0の入力が多数になってしまうので、RNNで適切に扱うためには「パッキング」を行う必要があります。  \n",
        "`rnn.pack_padded_sequence`により、0を除いたPackedSequence型のデータを作成できます。  \n",
        "PackedSequence型のデータは、RNNに入力することが可能です。"
      ]
    },
    {
      "cell_type": "code",
      "metadata": {
        "id": "Gkpk0jOwvjl0",
        "outputId": "62c200b6-a401-4d87-b640-5b915652dada",
        "colab": {
          "base_uri": "https://localhost:8080/",
          "height": 119
        }
      },
      "source": [
        "packed = nn.utils.rnn.pack_padded_sequence(padded, [3, 2, 1], batch_first=True, enforce_sorted=False)\n",
        "print(packed)"
      ],
      "execution_count": 3,
      "outputs": [
        {
          "output_type": "stream",
          "text": [
            "PackedSequence(data=tensor([[1., 1., 1., 1., 1.],\n",
            "        [2., 2., 2., 2., 2.],\n",
            "        [3., 3., 3., 3., 3.],\n",
            "        [1., 1., 1., 1., 1.],\n",
            "        [2., 2., 2., 2., 2.],\n",
            "        [1., 1., 1., 1., 1.]]), batch_sizes=tensor([3, 2, 1]), sorted_indices=tensor([0, 1, 2]), unsorted_indices=tensor([0, 1, 2]))\n"
          ],
          "name": "stdout"
        }
      ]
    },
    {
      "cell_type": "markdown",
      "metadata": {
        "id": "PKPZvXSFyC0O"
      },
      "source": [
        "## RNNへ入力\n",
        "パッキングされたTensorをRNNへ入力します。  \n",
        "出力は`PackedSequence`型のデータに、隠れ層の状態hは通常のTensorになります。"
      ]
    },
    {
      "cell_type": "code",
      "metadata": {
        "id": "GL3tsCWVyDC1",
        "outputId": "4d6f8566-5cde-41f3-84cb-7f31bab93c98",
        "colab": {
          "base_uri": "https://localhost:8080/",
          "height": 170
        }
      },
      "source": [
        "rnn = nn.RNN(\n",
        "            input_size=5,  # 入力サイズ\n",
        "            hidden_size=2,  # ニューロン数\n",
        "            batch_first=True,  # 入力を (バッチサイズ, 時系列の数, 入力の数) にする\n",
        "        )\n",
        "\n",
        "y, h  = rnn(packed)\n",
        "print(y)\n",
        "print(h)"
      ],
      "execution_count": 4,
      "outputs": [
        {
          "output_type": "stream",
          "text": [
            "PackedSequence(data=tensor([[ 0.2670, -0.4402],\n",
            "        [ 0.4090, -0.6955],\n",
            "        [ 0.5337, -0.8467],\n",
            "        [ 0.1869, -0.4419],\n",
            "        [ 0.2918, -0.6999],\n",
            "        [ 0.1843, -0.4685]], grad_fn=<CatBackward>), batch_sizes=tensor([3, 2, 1]), sorted_indices=tensor([0, 1, 2]), unsorted_indices=tensor([0, 1, 2]))\n",
            "tensor([[[ 0.1843, -0.4685],\n",
            "         [ 0.2918, -0.6999],\n",
            "         [ 0.5337, -0.8467]]], grad_fn=<IndexSelectBackward>)\n"
          ],
          "name": "stdout"
        }
      ]
    },
    {
      "cell_type": "markdown",
      "metadata": {
        "id": "vT1Hodyf2uDW"
      },
      "source": [
        "## PackedSequence型をTensorに戻す\n",
        "`pad_packed_sequence`により、RNNの出力をパディングされたTensorに戻します。"
      ]
    },
    {
      "cell_type": "code",
      "metadata": {
        "id": "k-k1yfuo4XI1",
        "outputId": "183c0b42-e22a-4067-f343-d67cbacd96bc",
        "colab": {
          "base_uri": "https://localhost:8080/",
          "height": 204
        }
      },
      "source": [
        "y_unpacked = nn.utils.rnn.pad_packed_sequence(y, batch_first=True)\n",
        "print(y_unpacked)"
      ],
      "execution_count": 5,
      "outputs": [
        {
          "output_type": "stream",
          "text": [
            "(tensor([[[ 0.2670, -0.4402],\n",
            "         [ 0.1869, -0.4419],\n",
            "         [ 0.1843, -0.4685]],\n",
            "\n",
            "        [[ 0.4090, -0.6955],\n",
            "         [ 0.2918, -0.6999],\n",
            "         [ 0.0000,  0.0000]],\n",
            "\n",
            "        [[ 0.5337, -0.8467],\n",
            "         [ 0.0000,  0.0000],\n",
            "         [ 0.0000,  0.0000]]], grad_fn=<IndexSelectBackward>), tensor([3, 2, 1]))\n"
          ],
          "name": "stdout"
        }
      ]
    }
  ]
}