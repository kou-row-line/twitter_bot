{
  "nbformat": 4,
  "nbformat_minor": 0,
  "metadata": {
    "colab": {
      "name": "simple_seq2seq.ipynb",
      "provenance": [],
      "collapsed_sections": [],
      "authorship_tag": "ABX9TyNpyVhZI19OabFhSjwlJbG4",
      "include_colab_link": true
    },
    "kernelspec": {
      "name": "python3",
      "display_name": "Python 3"
    }
  },
  "cells": [
    {
      "cell_type": "markdown",
      "metadata": {
        "id": "view-in-github",
        "colab_type": "text"
      },
      "source": [
        "<a href=\"https://colab.research.google.com/github/yukinaga/twitter_bot/blob/master/section_2/03_simple_seq2seq.ipynb\" target=\"_parent\"><img src=\"https://colab.research.google.com/assets/colab-badge.svg\" alt=\"Open In Colab\"/></a>"
      ]
    },
    {
      "cell_type": "markdown",
      "metadata": {
        "id": "HzAWLQ2a3io8"
      },
      "source": [
        "# シンプルなseq2seq\n",
        "最小限のSeq2Seqを構築し、時系列の変換を行います。  \n",
        "今回は、Seq2Seqを使って、sin関数の曲線をcos関数の曲線に”翻訳”します。  \n",
        "Seq2Seqの構築方法について、基礎から学んでいきましょう。"
      ]
    },
    {
      "cell_type": "markdown",
      "metadata": {
        "id": "BdA4qJH83-xR"
      },
      "source": [
        "## 訓練用データの作成\n",
        "訓練用のデータを作成します。  \n",
        "今回は、sin関数の値をencoderへの入力、cos関数の値をdecoderへの入力、及び正解とします。  \n",
        "decoderへの入力は、正解から一つ後の時刻にずらします。  \n",
        "これにより、ある時刻におけるdecoderの出力が、次の時刻における入力に近づくように学習を行うことができます。  \n",
        "このような、ある時刻における正解が次の時刻の入力となる手法を「教師強制」といいます。"
      ]
    },
    {
      "cell_type": "code",
      "metadata": {
        "id": "j94RRIUJ2x3r",
        "outputId": "89d6c1e8-91a4-4322-f6d0-f2e1e75fefb3",
        "colab": {
          "base_uri": "https://localhost:8080/",
          "height": 265
        }
      },
      "source": [
        "import numpy as np\n",
        "import matplotlib.pyplot as plt\n",
        "\n",
        "axis_x = np.linspace(-2*np.pi, 2*np.pi)  # -2πから2πまで\n",
        "sin_data = np.sin(axis_x)  # sin関数\n",
        "cos_data = np.cos(axis_x)  # cos関数\n",
        "\n",
        "plt.plot(axis_x, sin_data, label=\"sin\")\n",
        "plt.plot(axis_x, cos_data, label=\"cos\")\n",
        "plt.legend()\n",
        "plt.show()\n",
        "\n",
        "n_time = 10  # 時系列の数\n",
        "n_sample = len(axis_x)-n_time  # サンプル数\n",
        "x_encoder = np.zeros((n_sample, n_time))  # encoderの入力\n",
        "x_decoder = np.zeros((n_sample, n_time))  # decoderの入力\n",
        "t_decoder = np.zeros((n_sample, n_time))  # decoderの正解\n",
        "\n",
        "for i in range(0, n_sample):\n",
        "    x_encoder[i] = sin_data[i:i+n_time]\n",
        "    x_decoder[i, 1:] = cos_data[i:i+n_time-1]  # 一つ後の時刻にずらす。最初の値は0のまま。\n",
        "    t_decoder[i] = cos_data[i:i+n_time]  # 正解は、cos関数の値をそのまま入れる\n",
        "\n",
        "x_encoder = x_encoder.reshape(n_sample, n_time, 1)  # （サンプル数、時系列の数、入力層のニューロン数）\n",
        "x_decoder = x_decoder.reshape(n_sample, n_time, 1)\n",
        "t_decoder = t_decoder.reshape(n_sample, n_time, 1)"
      ],
      "execution_count": 1,
      "outputs": [
        {
          "output_type": "display_data",
          "data": {
            "image/png": "[encoded data removed]",
            "text/plain": [
              "<Figure size 432x288 with 1 Axes>"
            ]
          },
          "metadata": {
            "tags": [],
            "needs_background": "light"
          }
        }
      ]
    },
    {
      "cell_type": "markdown",
      "metadata": {
        "id": "Rm-FbE_c4gg0"
      },
      "source": [
        "## 各設定\n",
        "Encoderの入力、Decoderの入力、Decoderの正解をデータセットにまとめ、DataLoaderに設定します。  \n",
        "また、各層のニューロン数も設定します。\n",
        "\n"
      ]
    },
    {
      "cell_type": "code",
      "metadata": {
        "id": "ZVcqKdaLhqO3"
      },
      "source": [
        "import torch\n",
        "from torch.utils.data import DataLoader\n",
        "\n",
        "x_encoder = torch.tensor(x_encoder, dtype=torch.float)  # テンソルに変換\n",
        "x_decoder = torch.tensor(x_decoder, dtype=torch.float)\n",
        "t_decoder = torch.tensor(t_decoder, dtype=torch.float)\n",
        "dataset = torch.utils.data.TensorDataset(x_encoder, x_decoder, t_decoder)  # データセットの作成\n",
        "train_loader = DataLoader(dataset, batch_size=8, shuffle=True)  # DataLoaderの設定\n",
        "\n",
        "n_in = 1  # 入力層のニューロン数\n",
        "n_mid = 20  # 中間層のニューロン数\n",
        "n_out = n_in  # 出力層のニューロン数"
      ],
      "execution_count": 2,
      "outputs": []
    },
    {
      "cell_type": "markdown",
      "metadata": {
        "id": "4L4JUIxfiXIy"
      },
      "source": [
        "## Encoderのクラス\n",
        "Encoderをクラスとして実装します。  \n",
        "RNN部分にはシンプルなRNNを使用します。  "
      ]
    },
    {
      "cell_type": "code",
      "metadata": {
        "id": "Qj85SCNAmzGC"
      },
      "source": [
        "import torch.nn as nn\n",
        "\n",
        "class Encoder(nn.Module):\n",
        "    def __init__(self, n_in, n_mid, n_out):\n",
        "        super().__init__()\n",
        "        \n",
        "        self.n_mid = n_mid\n",
        "        \n",
        "        self.rnn = nn.RNN(  # RNN層\n",
        "            input_size=n_in,  # 入力サイズ\n",
        "            hidden_size=n_mid,  # ニューロン数\n",
        "            batch_first=True,  # 入力を (バッチサイズ, 時系列の数, 入力の数) にする\n",
        "        )\n",
        "\n",
        "    def forward(self, x_encoder):\n",
        "        y_encoder, h_encoder = self.rnn(x_encoder)\n",
        "        return h_encoder"
      ],
      "execution_count": 3,
      "outputs": []
    },
    {
      "cell_type": "markdown",
      "metadata": {
        "id": "YYCATQ-NpexE"
      },
      "source": [
        "## Decoderのクラス\n",
        "Encoderをクラスとして実装します。  \n",
        "RNN部分にはシンプルなRNNを使用します。  \n",
        "RNNの出力は、全結合層を経てDecoderの出力となります。"
      ]
    },
    {
      "cell_type": "code",
      "metadata": {
        "id": "o4_k1Lnypm9v"
      },
      "source": [
        "class Decoder(nn.Module):\n",
        "    def __init__(self, n_in, n_mid, n_out):\n",
        "        super().__init__()\n",
        "        \n",
        "        self.n_mid = n_mid\n",
        "        self.n_out = n_out\n",
        "                \n",
        "        self.rnn = nn.RNN(  # RNN層\n",
        "            input_size=n_in,  # 入力サイズ\n",
        "            hidden_size=n_mid,  # ニューロン数\n",
        "            batch_first=True,  # 入力を (バッチサイズ, 時系列の数, 入力の数) にする\n",
        "        )\n",
        "        self.fc = nn.Linear(n_mid, n_out)\n",
        "                \n",
        "    def forward(self, x_decoder, h_encoder):\n",
        "        y_decoder, h_decoder = self.rnn(x_decoder, h_encoder)\n",
        "        y_decoder = self.fc(y_decoder)\n",
        "        return y_decoder, h_decoder"
      ],
      "execution_count": 4,
      "outputs": []
    },
    {
      "cell_type": "markdown",
      "metadata": {
        "id": "iz1mobSD4J_K"
      },
      "source": [
        "## Seq2Seqのクラス\n",
        "PyTorchを使ってSeq2Seqを構築します。  \n",
        "今回は、Seq2SeqのRNN部分にはシンプルなRNNを使います。  \n",
        "訓練用の`forward`メソッドと、予測用の`predict`メソッドを用意します。  \n",
        "訓練では、予め用意したDecoderの入力を使用します。  \n",
        "予測では、各時刻ごとの出力が次の時刻の入力となるので、Seq2Seqによりデータが生成されることになります。"
      ]
    },
    {
      "cell_type": "code",
      "metadata": {
        "id": "EaP3V80wwF_b"
      },
      "source": [
        "class Seq2Seq(nn.Module):\n",
        "    def __init__(self, encoder, decoder):\n",
        "        super().__init__()\n",
        "        \n",
        "        self.encoder = encoder\n",
        "        self.decoder = decoder\n",
        "        \n",
        "    def forward(self, x_encoder, x_decoder):  # 訓練に使用\n",
        "        batch_size = x_decoder.shape[0]\n",
        "        n_time = x_decoder.shape[1]\n",
        "        h = self.encoder(x_encoder)\n",
        "\n",
        "        y_decoder = torch.zeros(batch_size, n_time, self.decoder.n_out)   \n",
        "\n",
        "        for t in range(0, n_time):\n",
        "            x = x_decoder[:, t:t+1, :]  # Decoderの入力を使用\n",
        "            y, h= self.decoder(x, h)\n",
        "            y_decoder[:, t:t+1, :] = y  \n",
        "        return y_decoder\n",
        "\n",
        "    def predict(self, x_encoder):  # 予測に使用\n",
        "        batch_size = x_encoder.shape[0]\n",
        "        n_time = x_encoder.shape[1]\n",
        "        h = self.encoder(x_encoder)\n",
        "\n",
        "        y_decoder = torch.zeros(batch_size, n_time, self.decoder.n_out)   \n",
        "        y = torch.zeros(batch_size, 1, self.decoder.n_out)   \n",
        "        for t in range(0, n_time):\n",
        "            x = y  # 前の時刻の出力を入力に\n",
        "            y, h= self.decoder(x, h)\n",
        "            y_decoder[:, t:t+1, :] = y  \n",
        "        return y_decoder"
      ],
      "execution_count": 5,
      "outputs": []
    },
    {
      "cell_type": "markdown",
      "metadata": {
        "id": "_LlU7bHhC0Fj"
      },
      "source": [
        "## 学習\n",
        "DataLoaderを使ってミニバッチを取り出し、Seq2Seqのモデルを訓練します。  \n"
      ]
    },
    {
      "cell_type": "code",
      "metadata": {
        "id": "Fc0297QKC01y",
        "outputId": "aa822460-898b-4fb1-b225-3e126f8a0167",
        "colab": {
          "base_uri": "https://localhost:8080/",
          "height": 187
        }
      },
      "source": [
        "from torch import optim\n",
        "\n",
        "# Seq2Seqのモデルを構築\n",
        "encoder = Encoder(n_in, n_mid, n_out)\n",
        "decoder = Decoder(n_in, n_mid, n_out)\n",
        "seq2seq = Seq2Seq(encoder, decoder)\n",
        "\n",
        "# 二乗和誤差関数\n",
        "loss_fnc = nn.MSELoss()\n",
        "\n",
        "# 最適化アルゴリズム\n",
        "optimizer = optim.SGD(seq2seq.parameters(), lr=0.01)\n",
        "\n",
        "# 損失のログ\n",
        "record_loss_train = []\n",
        "\n",
        "# 学習\n",
        "seq2seq.train()  # 訓練モード\n",
        "for i in range(500):  # 500エポック学習\n",
        "    loss_train = 0\n",
        "    for j, (x_enc, x_dec, t_dec) in enumerate(train_loader):  # ミニバッチを取り出す\n",
        "        y_dec = seq2seq(x_enc, x_dec)\n",
        "        loss = loss_fnc(y_dec, t_dec)\n",
        "        loss_train += loss.item()\n",
        "        optimizer.zero_grad()\n",
        "        loss.backward()\n",
        "        optimizer.step()\n",
        "    loss_train /= j+1\n",
        "    record_loss_train.append(loss_train)\n",
        "    if i%50 == 0:\n",
        "        print(\"Epoch:\", i, \"Loss_Train:\", loss_train)"
      ],
      "execution_count": 6,
      "outputs": [
        {
          "output_type": "stream",
          "text": [
            "Epoch: 0 Loss_Train: 0.5359700202941895\n",
            "Epoch: 50 Loss_Train: 0.055730854719877244\n",
            "Epoch: 100 Loss_Train: 0.014402008429169656\n",
            "Epoch: 150 Loss_Train: 0.00613300921395421\n",
            "Epoch: 200 Loss_Train: 0.0030803073663264514\n",
            "Epoch: 250 Loss_Train: 0.0022622999735176564\n",
            "Epoch: 300 Loss_Train: 0.0019565708003938197\n",
            "Epoch: 350 Loss_Train: 0.0017774258740246296\n",
            "Epoch: 400 Loss_Train: 0.0016416424186900258\n",
            "Epoch: 450 Loss_Train: 0.001537606306374073\n"
          ],
          "name": "stdout"
        }
      ]
    },
    {
      "cell_type": "markdown",
      "metadata": {
        "id": "rJwwrWTw43rx"
      },
      "source": [
        "## 誤差の推移\n",
        "誤差の推移をグラフ表示します。  "
      ]
    },
    {
      "cell_type": "code",
      "metadata": {
        "id": "OaJx4swE45XI",
        "outputId": "2a2c0b65-ddac-4e49-9ea7-5ef8837f8d9f",
        "colab": {
          "base_uri": "https://localhost:8080/",
          "height": 279
        }
      },
      "source": [
        "import matplotlib.pyplot as plt\n",
        "\n",
        "plt.plot(range(len(record_loss_train)), record_loss_train, label=\"Train\")\n",
        "plt.legend()\n",
        "\n",
        "plt.xlabel(\"Epochs\")\n",
        "plt.ylabel(\"Error\")\n",
        "plt.show()"
      ],
      "execution_count": 7,
      "outputs": [
        {
          "output_type": "display_data",
          "data": {
            "image/png": "[encoded data removed]",
            "text/plain": [
              "<Figure size 432x288 with 1 Axes>"
            ]
          },
          "metadata": {
            "tags": [],
            "needs_background": "light"
          }
        }
      ]
    },
    {
      "cell_type": "markdown",
      "metadata": {
        "id": "IHyViGdX3goe"
      },
      "source": [
        "## 翻訳を実行\n",
        "sin関数の曲線を、cos関数の曲線に”翻訳”します。  \n"
      ]
    },
    {
      "cell_type": "code",
      "metadata": {
        "id": "Z2AzROHf3goe",
        "outputId": "d98dab77-3b06-48f6-d7b4-66af889a7081",
        "colab": {
          "base_uri": "https://localhost:8080/",
          "height": 265
        }
      },
      "source": [
        "seq2seq.eval()  # 評価モード\n",
        "demo_idices = [0, 13, 26, 39]  # デモに使うデータのインデックス\n",
        "for i in demo_idices:\n",
        "    x_demo = x_encoder[i:i+1]  # 入力を一部取り出す\n",
        "    y_demo = seq2seq.predict(x_demo)  # 翻訳する\n",
        "    \n",
        "    plt.plot(axis_x[i:i+n_time], x_demo.reshape(-1), color=\"b\")  # 翻訳前（青）\n",
        "    plt.plot(axis_x[i:i+n_time], y_demo.view(-1).detach(), color=\"r\")  # 翻訳後（赤）\n",
        "    \n",
        "plt.show()    "
      ],
      "execution_count": 8,
      "outputs": [
        {
          "output_type": "display_data",
          "data": {
            "image/png": "[encoded data removed]",
            "text/plain": [
              "<Figure size 432x288 with 1 Axes>"
            ]
          },
          "metadata": {
            "tags": [],
            "needs_background": "light"
          }
        }
      ]
    }
  ]
}